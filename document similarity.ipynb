{
 "cells": [
  {
   "cell_type": "markdown",
   "metadata": {},
   "source": [
    "### Doc2Vec\n",
    "Doc2vec is an adaptation of Word2Vec that allows us to learn document similarity. Doc2vec model by itself is an unsupervised method."
   ]
  },
  {
   "cell_type": "code",
   "execution_count": 1,
   "metadata": {},
   "outputs": [
    {
     "name": "stderr",
     "output_type": "stream",
     "text": [
      "C:\\Users\\rayha\\Anaconda3\\lib\\site-packages\\gensim\\utils.py:1197: UserWarning: detected Windows; aliasing chunkize to chunkize_serial\n",
      "  warnings.warn(\"detected Windows; aliasing chunkize to chunkize_serial\")\n"
     ]
    }
   ],
   "source": [
    "import pandas as pd\n",
    "import numpy as np\n",
    "from tqdm import tqdm\n",
    "tqdm.pandas(desc=\"progress-bar\")\n",
    "from gensim.models import Doc2Vec\n",
    "from sklearn import utils\n",
    "from sklearn.model_selection import train_test_split\n",
    "import gensim\n",
    "from sklearn.linear_model import LogisticRegression\n",
    "from gensim.models.doc2vec import TaggedDocument\n",
    "import re\n",
    "import seaborn as sns\n",
    "import matplotlib.pyplot as plt"
   ]
  },
  {
   "cell_type": "code",
   "execution_count": 25,
   "metadata": {},
   "outputs": [
    {
     "data": {
      "text/html": [
       "<div>\n",
       "<style scoped>\n",
       "    .dataframe tbody tr th:only-of-type {\n",
       "        vertical-align: middle;\n",
       "    }\n",
       "\n",
       "    .dataframe tbody tr th {\n",
       "        vertical-align: top;\n",
       "    }\n",
       "\n",
       "    .dataframe thead th {\n",
       "        text-align: right;\n",
       "    }\n",
       "</style>\n",
       "<table border=\"1\" class=\"dataframe\">\n",
       "  <thead>\n",
       "    <tr style=\"text-align: right;\">\n",
       "      <th></th>\n",
       "      <th>Product</th>\n",
       "      <th>Consumer complaint narrative</th>\n",
       "    </tr>\n",
       "  </thead>\n",
       "  <tbody>\n",
       "    <tr>\n",
       "      <th>1</th>\n",
       "      <td>Student loan</td>\n",
       "      <td>When my loan was switched over to Navient i wa...</td>\n",
       "    </tr>\n",
       "    <tr>\n",
       "      <th>2</th>\n",
       "      <td>Credit card or prepaid card</td>\n",
       "      <td>I tried to sign up for a spending monitoring p...</td>\n",
       "    </tr>\n",
       "    <tr>\n",
       "      <th>7</th>\n",
       "      <td>Mortgage</td>\n",
       "      <td>My mortgage is with BB &amp; T Bank, recently I ha...</td>\n",
       "    </tr>\n",
       "    <tr>\n",
       "      <th>13</th>\n",
       "      <td>Mortgage</td>\n",
       "      <td>The entire lending experience with Citizens Ba...</td>\n",
       "    </tr>\n",
       "    <tr>\n",
       "      <th>14</th>\n",
       "      <td>Credit reporting</td>\n",
       "      <td>My credit score has gone down XXXX points in t...</td>\n",
       "    </tr>\n",
       "  </tbody>\n",
       "</table>\n",
       "</div>"
      ],
      "text/plain": [
       "                        Product  \\\n",
       "1                  Student loan   \n",
       "2   Credit card or prepaid card   \n",
       "7                      Mortgage   \n",
       "13                     Mortgage   \n",
       "14             Credit reporting   \n",
       "\n",
       "                         Consumer complaint narrative  \n",
       "1   When my loan was switched over to Navient i wa...  \n",
       "2   I tried to sign up for a spending monitoring p...  \n",
       "7   My mortgage is with BB & T Bank, recently I ha...  \n",
       "13  The entire lending experience with Citizens Ba...  \n",
       "14  My credit score has gone down XXXX points in t...  "
      ]
     },
     "execution_count": 25,
     "metadata": {},
     "output_type": "execute_result"
    }
   ],
   "source": [
    "data = pd.read_csv(\"data/Consumer_Complaints.csv\", nrows=1000,usecols=['Consumer complaint narrative', 'Product']).dropna()\n",
    "data.head()"
   ]
  },
  {
   "cell_type": "markdown",
   "metadata": {},
   "source": [
    "### Text preprocessing\n",
    "Below we define a function to convert text to lower-case and strip punctuation/symbols from words and so on."
   ]
  },
  {
   "cell_type": "code",
   "execution_count": 26,
   "metadata": {
    "collapsed": true
   },
   "outputs": [],
   "source": [
    "from bs4 import BeautifulSoup\n",
    "def cleanText(text):\n",
    "    text = BeautifulSoup(text, \"lxml\").text\n",
    "    text = re.sub(r'\\|\\|\\|', r' ', text) \n",
    "    text = re.sub(r'http\\S+', r'<URL>', text)\n",
    "    text = text.lower()\n",
    "    text = text.replace('x', '')\n",
    "    return text"
   ]
  },
  {
   "cell_type": "code",
   "execution_count": 27,
   "metadata": {
    "collapsed": true
   },
   "outputs": [],
   "source": [
    "data['Consumer complaint narrative'] = data['Consumer complaint narrative'].apply(cleanText)"
   ]
  },
  {
   "cell_type": "code",
   "execution_count": 28,
   "metadata": {},
   "outputs": [
    {
     "data": {
      "text/plain": [
       "'when my loan was switched over to navient i was never told that i had a deliquint balance because with  i did not. when going to purchase a vehicle i discovered my credit score had been dropped from the  into the . i have been faithful at paying my student loan. i was told that navient was the company i had delinquency with. i contacted navient to resolve this issue you and kept being told to just contact the credit bureaus and epalin the situation and maybe they could help me. i was so angry that i just hurried and paid the balance off and then after tried to dispute the delinquency with the credit bureaus. i have had so much trouble bringing my credit score back up.'"
      ]
     },
     "execution_count": 28,
     "metadata": {},
     "output_type": "execute_result"
    }
   ],
   "source": [
    "data['Consumer complaint narrative'][1]"
   ]
  },
  {
   "cell_type": "code",
   "execution_count": 29,
   "metadata": {},
   "outputs": [
    {
     "data": {
      "text/html": [
       "<div>\n",
       "<style scoped>\n",
       "    .dataframe tbody tr th:only-of-type {\n",
       "        vertical-align: middle;\n",
       "    }\n",
       "\n",
       "    .dataframe tbody tr th {\n",
       "        vertical-align: top;\n",
       "    }\n",
       "\n",
       "    .dataframe thead th {\n",
       "        text-align: right;\n",
       "    }\n",
       "</style>\n",
       "<table border=\"1\" class=\"dataframe\">\n",
       "  <thead>\n",
       "    <tr style=\"text-align: right;\">\n",
       "      <th></th>\n",
       "      <th>Product</th>\n",
       "      <th>narrative</th>\n",
       "    </tr>\n",
       "  </thead>\n",
       "  <tbody>\n",
       "    <tr>\n",
       "      <th>1</th>\n",
       "      <td>Student loan</td>\n",
       "      <td>when my loan was switched over to navient i wa...</td>\n",
       "    </tr>\n",
       "    <tr>\n",
       "      <th>2</th>\n",
       "      <td>Credit card or prepaid card</td>\n",
       "      <td>i tried to sign up for a spending monitoring p...</td>\n",
       "    </tr>\n",
       "    <tr>\n",
       "      <th>7</th>\n",
       "      <td>Mortgage</td>\n",
       "      <td>my mortgage is with bb &amp; t bank, recently i ha...</td>\n",
       "    </tr>\n",
       "    <tr>\n",
       "      <th>13</th>\n",
       "      <td>Mortgage</td>\n",
       "      <td>the entire lending eperience with citizens ban...</td>\n",
       "    </tr>\n",
       "    <tr>\n",
       "      <th>14</th>\n",
       "      <td>Credit reporting</td>\n",
       "      <td>my credit score has gone down  points in the l...</td>\n",
       "    </tr>\n",
       "  </tbody>\n",
       "</table>\n",
       "</div>"
      ],
      "text/plain": [
       "                        Product  \\\n",
       "1                  Student loan   \n",
       "2   Credit card or prepaid card   \n",
       "7                      Mortgage   \n",
       "13                     Mortgage   \n",
       "14             Credit reporting   \n",
       "\n",
       "                                            narrative  \n",
       "1   when my loan was switched over to navient i wa...  \n",
       "2   i tried to sign up for a spending monitoring p...  \n",
       "7   my mortgage is with bb & t bank, recently i ha...  \n",
       "13  the entire lending eperience with citizens ban...  \n",
       "14  my credit score has gone down  points in the l...  "
      ]
     },
     "execution_count": 29,
     "metadata": {},
     "output_type": "execute_result"
    }
   ],
   "source": [
    "##replace the column name\n",
    "data.rename(columns = {'Consumer complaint narrative':'narrative'}, inplace = True)\n",
    "data.head()"
   ]
  },
  {
   "cell_type": "code",
   "execution_count": 30,
   "metadata": {},
   "outputs": [],
   "source": [
    "#Import all the dependencies\n",
    "from gensim.models.doc2vec import Doc2Vec, TaggedDocument\n",
    "from nltk.tokenize import word_tokenize"
   ]
  },
  {
   "cell_type": "code",
   "execution_count": 40,
   "metadata": {},
   "outputs": [
    {
     "data": {
      "text/plain": [
       "'when my loan was switched over to navient i was never told that i had a deliquint balance because with  i did not. when going to purchase a vehicle i discovered my credit score had been dropped from the  into the . i have been faithful at paying my student loan. i was told that navient was the company i had delinquency with. i contacted navient to resolve this issue you and kept being told to just contact the credit bureaus and epalin the situation and maybe they could help me. i was so angry that i just hurried and paid the balance off and then after tried to dispute the delinquency with the credit bureaus. i have had so much trouble bringing my credit score back up.'"
      ]
     },
     "execution_count": 40,
     "metadata": {},
     "output_type": "execute_result"
    }
   ],
   "source": [
    "data_train = list(data[\"narrative\"].head(10))\n",
    "data_train[0]"
   ]
  },
  {
   "cell_type": "code",
   "execution_count": 41,
   "metadata": {},
   "outputs": [],
   "source": [
    "tagged_data = [TaggedDocument(words=word_tokenize(_d.lower()), tags=[str(i)]) for i, _d in enumerate(data_train)]"
   ]
  },
  {
   "cell_type": "code",
   "execution_count": 42,
   "metadata": {},
   "outputs": [
    {
     "data": {
      "text/plain": [
       "[TaggedDocument(words=['when', 'my', 'loan', 'was', 'switched', 'over', 'to', 'navient', 'i', 'was', 'never', 'told', 'that', 'i', 'had', 'a', 'deliquint', 'balance', 'because', 'with', 'i', 'did', 'not', '.', 'when', 'going', 'to', 'purchase', 'a', 'vehicle', 'i', 'discovered', 'my', 'credit', 'score', 'had', 'been', 'dropped', 'from', 'the', 'into', 'the', '.', 'i', 'have', 'been', 'faithful', 'at', 'paying', 'my', 'student', 'loan', '.', 'i', 'was', 'told', 'that', 'navient', 'was', 'the', 'company', 'i', 'had', 'delinquency', 'with', '.', 'i', 'contacted', 'navient', 'to', 'resolve', 'this', 'issue', 'you', 'and', 'kept', 'being', 'told', 'to', 'just', 'contact', 'the', 'credit', 'bureaus', 'and', 'epalin', 'the', 'situation', 'and', 'maybe', 'they', 'could', 'help', 'me', '.', 'i', 'was', 'so', 'angry', 'that', 'i', 'just', 'hurried', 'and', 'paid', 'the', 'balance', 'off', 'and', 'then', 'after', 'tried', 'to', 'dispute', 'the', 'delinquency', 'with', 'the', 'credit', 'bureaus', '.', 'i', 'have', 'had', 'so', 'much', 'trouble', 'bringing', 'my', 'credit', 'score', 'back', 'up', '.'], tags=['0']),\n",
       " TaggedDocument(words=['i', 'tried', 'to', 'sign', 'up', 'for', 'a', 'spending', 'monitoring', 'program', 'and', 'capital', 'one', 'will', 'not', 'let', 'me', 'access', 'my', 'account', 'through', 'them'], tags=['1']),\n",
       " TaggedDocument(words=['my', 'mortgage', 'is', 'with', 'bb', '&', 't', 'bank', ',', 'recently', 'i', 'have', 'been', 'investigating', 'ways', 'to', 'pay', 'down', 'my', 'mortgage', 'faster', 'and', 'i', 'came', 'across', 'biweekly', 'mortgage', 'calculator', 'on', 'bb', '&', 't', \"'s\", 'website', '.', 'it', \"'s\", 'a', 'nice', ',', 'easy', 'to', 'use', 'calculator', 'that', 'you', 'plug', 'in', 'your', 'interest', 'rate', ',', 'mortgage', 'amount', ',', 'mortgage', 'term', ',', 'and', 'payment', 'type', 'and', 'it', 'calculates', 'your', 'accelerated', 'bi-weekly', 'payment', 'for', 'you', 'and', 'shows', 'you', 'how', 'much', 'quicker', 'you', 'can', 'pay', 'down', 'your', 'loan', '.', 'ours', 'figured', 'out', 'to', 'pay', 'off', 'a', '30', 'year', 'mortgage', 'in', '26.4', 'years', '...', 'quite', 'a', 'savings', '!', 'i', 'called', 'bb', '&', 't', \"'s\", 'customer', 'service', 'number', 'to', 'inquire', 'how', 'i', 'get', 'set', 'up', 'on', 'this', 'payment', 'plan', '.', 'i', 'was', 'told', 'they', 'do', 'not', 'offer', 'that', 'type', 'of', 'payment', 'plan', ',', 'but', 'i', 'could', 'send', 'in', 'my', 'payments', 'bi-weekly', 'but', 'it', 'would', 'not', 'be', 'applied', 'until', 'the', 'full', 'amount', 'was', 'received', '.', '(', 'the', 'money', 'would', 'sit', 'in', 'a', '``', 'holding', 'account', \"''\", 'until', 'the', 'full', 'payment', 'amount', 'was', 'collected', ')', '.', 'i', 'ended', 'up', 'calling', 'back', 'a', 'few', 'days', 'later', 'thinking', 'the', 'rep', 'i', 'was', 'talking', 'to', 'did', \"n't\", 'understand', 'what', 'i', 'wanted', 'to', 'do', 'or', 'was', 'not', 'knowledgeable', 'of', 'this', 'program', '.', 'i', 'got', 'the', 'same', 'answer', '!', 'i', 'then', 'asked', 'for', 'the', 'corporate', 'bb', '&', 't', 'office', 'number', 'where', 'i', 'could', 'speak', 'to', 'someone', 'that', 'was', 'knowledgeable', 'of', 'this', 'product', '.', 'after', '3', 'days', 'i', 'received', 'a', 'phone', 'call', 'back', 'from', 'a', 'corporate', 'manager', 'stating', 'they', 'do', 'not', 'offer', 'this', 'product', ',', 'and', 'they', 'were', '``', 'checking', 'into', 'why', 'this', 'is', 'on', 'their', 'website', \"''\", '.', 'she', 'stated', 'they', 'do', 'have', 'a', 'few', 'customers', 'that', 'make', 'bi-weekly', 'payments', ',', 'but', 'they', 'no', 'longer', 'offer', 'this', 'service', '.', 'i', 'do', \"n't\", 'understand', 'how', 'they', 'can', 'have', 'this', 'active', 'link', 'on', 'their', 'website', 'under', 'their', 'financial', 'planning', 'center', 'tab', 'to', 'mislead', 'customers', 'when', 'all', 'they', 'say', 'is', '``', 'i', \"'m\", 'sorry', ',', 'i', 'know', 'you', \"'re\", 'upset', 'about', 'this', \"''\", 'sounds', 'like', 'false', 'advertising', 'to', 'me', '!', '<', 'url', '>', ':', '//www.bbt.com/'], tags=['2']),\n",
       " TaggedDocument(words=['the', 'entire', 'lending', 'eperience', 'with', 'citizens', 'bank', 'was', 'terrible', '.', 'the', 'lender', 'kept', 'pushing', 'a', 'arm', ',', 'which', 'we', 'had', 'considered', 'initially', 'but', 'decided', 'to', 'go', 'with', 'a', '30yr', 'fied', '.', 'when', 'we', 'received', 'the', 'closing', 'disclosure', ',', 'it', 'was', 'a', 'arm', ',', 'we', 'immediately', 'requested', 'that', 'it', 'be', 'corrected', 'to', 'the', '30yr', 'fied', 'we', 'decided', 'upon', 'but', 'they', 'kept', 'delaying', 'and', 'saying', 'it', 'was', 'changed', 'but', 'would', \"n't\", 'send', 'it', 'to', 'us', '.', 'they', 'waited', 'until', 'the', 'net', 'day', 'and', 'then', 'tried', 'to', 'convince', 'us', 'to', 'waive', 'our', 'rights', 'so', 'it', 'would', \"n't\", 'push', 'the', 'closing', 'date', 'due', 'to', 'the', '3', 'day', 'clock', 'reset', '.', 'this', 'seemed', 'very', 'intentional', ',', 'like', 'it', 'was', 'something', 'they', 'often', 'do', ',', 'because', 'they', 'sent', 'us', 'an', 'email', 'instructing', 'us', 'to', 'draft', 'a', 'letter', ':', '--', '--', 'from', 'the', 'loan', 'officer', ':', 'i', 'have', 'outlined', 'the', 'basis', 'of', 'the', 'letter', 'in', 'this', 'email', '.', 'please', 'elaborate', 'on', 'why', 'you', 'wanted', 'the', 'product', 'changed', 'and', 'make', 'sure', 'to', 'include', 'your', 'contact', 'information', 'at', 'the', 'bottom', 'as', 'they', 'will', 'need', 'this.', \"''\", 'to', 'whom', 'it', 'may', 'concern', ',', 'this', 'letter', 'is', 'to', 'waive', 'my', 'right', 'to', 'review', 'the', 'new', 'closing', 'disclosure', '3', 'business', 'days', 'prior', 'to', 'closing', '.', 'i', 'must', 'close', 'on', 'the', 'property', 'at', '(', 'property', 'address', ')', 'or', 'i', 'face', 'financial', 'hardship', 'in', 'the', 'form', 'of', 'losing', 'my', 'earnest', 'money', 'deposit', 'and', 'property', 'falling', 'through', '.', 'i', 'must', 'close', 'on', 'this', 'property', 'on', '.', 'there', 'is', 'substantial', 'epense', 'associated', 'with', 'my', 'drive', 'and', 'move', 'to', '(', 'property', 'address', ')', 'and', 'require', 'this', 'property', 'so', 'i', 'may', 'begin', '(', 'new', 'job', ')', 'on', 'time', '.', 'in', 'addition', 'this', 'letter', 'is', 'to', 'address', 'the', 'change', 'in', 'rate', 'and', 'product', '.', 'this', 'was', 'done', 'at', 'my', 'request', ',', 'i', 'requested', 'a', '30', 'year', 'fied', 'rate', 'loan', 'that', 'increased', 'my', 'rate', 'to', '(', '%', ')', 'and', 'increased', 'my', 'apr', '.', 'i', 'decided', 'that', 'the', '30', 'year', 'fied', 'was', 'a', 'safe', 'option', 'to', 'avoid', 'the', 'market', 'causing', 'my', 'arm', 'rate', 'to', 'increase', '.', 'i', 'felt', 'as', 'though', 'the', 'difference', 'in', 'payment', 'monthly', 'was', 'worth', 'the', 'security', 'of', 'having', 'a', 'fied', 'rate', 'and', 'knowing', 'the', 'rate', 'could', 'not', 'increase', '.', 'i', 'am', 'fully', 'aware', 'that', 'the', 'rate', 'and', 'apr', 'increased', 'and', 'am', 'fully', 'aware', 'of', 'the', 'difference', 'in', 'monthly', 'payment', 'however', 'i', 'still', 'wish', 'to', 'go', 'with', 'the', '30', 'year', 'fied', 'and', 'need', 'to', 'close', 'on', '.', 'my', 'contact', 'information', 'is', 'below', 'and', 'should', 'anyone', 'have', 'any', 'questions', 'please', 'do', 'not', 'hesitate', 'to', 'reach', 'out', 'to', 'me', '.', 'i', 'look', 'forward', 'to', 'closing', 'my', 'loan', '.', \"''\", 'please', 'make', 'sure', 'to', 'physically', 'sign', 'and', 'date', 'this', 'at', 'the', 'bottom', 'and', 'send', 'back', 'so', 'we', 'can', 'close', 'on', 'time', '.', 'thanks', '--', '--', 'we', 'responded', 'with', 'this', ':', '``', 'we', 'do', \"n't\", 'feel', 'comfortable', 'moving', 'forward', 'by', 'waving', 'our', 'rights', 'to', 'review', 'a', 'closing', 'disclosure', '.', 'we', 'would', 'like', 'to', 'receive', 'the', 'corrected', 'closing', 'disclosure', 'for', 'the', '30yr', 'fied', 'including', 'the', 'corrected', 'deposit', 'amount', 'and', 'we', 'understand', 'that', 'this', 'will', 'reset', 'the', 'clock', '.', 'we', 'would', 'really', 'appreciate', 'it', 'if', 'this', 'could', 'be', 'done', 'tonight', 'since', 'our', 'closing', 'date', 'has', 'already', 'been', 'pushed', 'more', 'than', 'epected.', '``', 'they', 'finally', 'sent', 'us', 'the', 'correct', 'closing', 'disclosure', '.', 'on', 'several', 'occasions', 'we', 'asked', 'about', 'having', 'to', 'open', 'a', 'checking', 'account', 'and', 'were', 'told', 'we', 'would', 'have', 'the', 'opportunity', 'to', 'later', 'if', 'we', 'desired', 'but', 'there', 'would', 'be', 'no', 'discount', 'for', 'having', 'an', 'account', '.', 'we', 'decided', 'we', 'did', \"n't\", 'need', 'one', ',', 'during', 'closing', 'we', 'set', 'up', 'our', 'mortgage', 'payments', 'to', 'come', 'directly', 'out', 'of', 'our', 'primary', 'bank', 'account', 'with', 'another', 'institution', '.', 'on', 'we', 'received', 'an', 'email', 'stating', 'a', 'form', 'was', 'to', 'be', 'signed', 'that', 'was', 'forgotten', 'during', 'closing', '.', 'the', 'form', 'was', 'dated', 'and', 'was', 'an', 'ach', 'for', 'a', 'direct', 'debit', 'of', 'the', 'mortgage', 'payment', 'from', 'a', 'bank', 'account', 'with', 'citizens', 'bank', '.', 'we', 'said', 'we', 'were', 'not', 'going', 'to', 'sign', 'it', ',', 'we', 'had', 'already', 'set', 'up', 'payments', 'from', 'our', 'bank', 'and', 'signed', 'an', 'ach', 'form', ',', 'and', 'this', 'form', 'was', 'not', '``', 'forgotten', \"''\", 'at', 'closing', '.', 'the', 'form', 'had', 'an', 'account', 'number', 'on', 'it', ',', 'we', 'asked', 'how', 'they', 'could', 'have', 'an', 'account', 'number', 'if', 'we', 'do', \"n't\", 'even', 'have', 'a', 'citizens', 'bank', 'account', '...', '.it', 'turns', 'out', 'they', 'opened', 'checking', ',', 'savings', 'and', 'credit', 'line', 'accounts', 'in', 'my', 'husband', \"'s\", 'name', 'without', 'our', 'authorization', ',', 'they', 'even', 'charged', 'the', 'credit', 'line', 'for', 'the', 'opening', 'deposit', 'into', 'the', 'checking', 'account', 'all', 'without', 'any', 'authorization', 'or', 'signatures', '!', 'we', 'are', 'still', 'fighting', 'to', 'get', 'them', 'properly', 'closed', '.'], tags=['3']),\n",
       " TaggedDocument(words=['my', 'credit', 'score', 'has', 'gone', 'down', 'points', 'in', 'the', 'last', 'month', '-', 'from', 'the', \"'s\", 'to', 'the', \"'s\", '.', 'i', 'requested', 'and', 'reviewed', 'reports', 'from', 'all', 'credit', 'reporting', 'agencies', 'and', 'i', 'can', 'not', 'find', 'a', 'significant', 'reason', 'for', 'the', 'significant', 'decrease', 'in', 'my', 'score', '.', 'please', 'help', 'me', '.'], tags=['4']),\n",
       " TaggedDocument(words=['i', 'few', 'months', 'back', 'i', 'contacted', 'in', 'regards', 'to', 'fraudulent', 'accounts', 'one', 'being', '.', 'i', 'sent', 'in', 'the', 'necessary', 'documents', 'affidavit', ',', 'police', 'report', '.', 'they', 'removed', 'the', 'account', 'now', 'the', 'account', 'has', 'appeared', 'back', 'on', 'my', 'report', 'under', 'and', 'allowed', 'that', '.', 'dropping', 'my', 'score', 'tremendously'], tags=['5']),\n",
       " TaggedDocument(words=['i', \"''\", 'm', 'a', 'victim', 'of', 'fraud', 'and', 'i', 'have', 'a', 'file', 'with', 'the', 'federal', 'trade', 'commission', '.', 'while', 'preparing', 'to', 'check', 'my', 'credit', 'for', 'incorrect', 'information', ',', 'i', 'have', 'noticed', 'there', 'are', 'si', 'inquires', 'that', 'i', 'have', 'no', 'knowledge', 'of', 'nor', 'do', 'i', 'have', 'or', 'ever', 'had', 'any', 'accounts', 'opened', 'with', 'the', 'companies', ',', 'please', 'will', 'you', 'help', 'me', 'in', 'solving', 'these', 'issues', '?', '1./', '...', '.national', 'credit', 'cards/airlines', '4', '.', '...', '.', 'inquiry', 'date', ':', 'inquiry', 'date', ':', '2./', '...', '.', '5', '.', '...', '.', 'inquiry', 'date', ':', '//', 'inquiry', 'date', ':', '3', '.', '...', '.', '6', '.', '...', 'inquiry', 'date', ':', '//', 'inquiry', 'date', ':', '//'], tags=['6']),\n",
       " TaggedDocument(words=['i', 'have', 'been', 'disputing', 'a', 'bankruptcy', 'on', 'my', 'credit', 'report', 'i', 'have', 'written', 'to', 'the', 'bureau', 'for', 'the', 'past', '3', 'years', 'i', 'call', 'them', 'on', 'the', 'phone', '2', 'dozen', 'times', 'i', 'wrote', 'to', 'the', 'district', 'court', 'about', 'a', 'bankruptcy', 'that', 'both', 'eperian', 'and', 'have', 'been', 'reporting', 'in', 'accurately', 'on', 'my', 'bureau', 'the', 'court', 'sent', 'me', 'a', 'letter', 'indicating', 'that', 'they', 'did', 'not', 'and', 'do', 'not', 'report', 'to', 'any', 'credit', 'bureaus', 'i', 'sent', 'these', 'letters', 'to', 'the', 'bureaus', 'and', 'they', 'say', 'that', 'they', 'have', 'verify', 'this', 'as', 'a', 'accurate', 'item', 'reported', 'by', 'the', 'court', 'so', 'i', 'went', 'to', 'the', 'district', 'court', 'with', 'my', 'id', 'and', 'they', 'said', 'to', 'me', 'that', 'we', 'do', \"n't\", 'have', 'a', 'bankruptcy', 'in', 'my', 'name', 'they', 'then', 'told', 'me', 'that', 'the', 'bureau', 'gets', 'this', 'information', 'from', 'i', 'contacted', 'them', 'by', 'phone', 'and', 'in', 'writing', 'they', 'have', 'never', 'responded', 'by', 'phone', 'or', 'mail', 'so', 'i', 'sent', 'a', 'letter', 'to', 'the', 'bureau', 'eplaining', 'that', 'they', 'show', 'me', 'their', 'method', 'of', 'verification', 'they', 'responded', 'that', 'the', 'info', 'was', 'verified', 'by', 'i', 'asked', 'them', 'then', 'why', 'is', \"n't\", 'showing', 'on', 'my', 'credit', 'report', 'they', 'said', 'that', 'i', 'should', 'contact', 'them', 'bottom', 'line', 'is', 'they', 'do', \"n't\", 'give', 'a', 'about', 'me', 'and', 'my', 'credit', 'and', 'how', 'this', 'effects', 'my', 'life', 'so', 'i', 'have', 'spoken', 'with', 'a', 'attorney', 'he', 'said', 'that', 'i', 'should', 'fit', 'a', 'complaint', 'with', 'you', 'so', 'i', 'am', 'complain', 'that', 'these', 'bureaus', 'are', 'ignoring', 'the', 'fair', 'credit', 'act', 'and', 'have', 'no', 'fear', 'of', 'your', 'organization', 'the', 'attorney', 'general', 'or', 'the', 'federal', 'trade', 'commission', 'so', 'i', 'am', 'asking', 'for', 'your', 'help', 'in', 'this', 'matter', 'if', 'they', 'have', 'verified', 'this', 'then', 'i', 'have', 'a', 'right', 'to', 'know', 'who', 'they', 'verified', 'this', 'information', 'with', 'name', 'email', 'phone', 'number', 'etc', '.'], tags=['7']),\n",
       " TaggedDocument(words=['today', 'i', 'received', 'a', 'phone', 'call', 'from', 'a', 'number', 'listed', 'as', '``', \"''\", 'at', 'on', '//', '.', 'the', 'caller', 'was', 'from', '(', 'fcc', 'finance', ',', 'llc', ')', 'and', 'they', 'usually', 'call', 'from', '.', 'however', 'today', 'they', 'spoofed', 'their', 'number', 'to', 'show', 'up', 'as', '``', \"''\", '(', ')', 'on', 'my', 'caller', 'id', '.', 'the', 'representative', 'from', 'fcc', 'called', 'and', 'asked', 'me', 'to', 'make', 'a', 'payment', 'with', 'my', 'debit', 'card', 'when', 'i', 'had', 'already', 'made', 'a', 'payment', 'this', 'month', '.', 'it', 'was', 'taken', 'by', 'them', 'from', 'my', 'bank', 'account', 'on', '//', '.', 'i', 'am', 'absolutely', 'sure', 'that', 'this', 'company', 'spoofed', 'their', 'number', '.', 'because', 'this', 'company', \"'s\", 'intent', 'was', 'to', 'collect', 'more', 'money', '``', 'spoofing', \"''\", 'is', 'illegal', 'per', 'the', 'federal', 'communications', 'commission', '.', '<', 'url', '>', ':', '//www.fcc.gov/consumers/guides/spoofing-and-caller-id', 'i', 'feel', 'insulted', 'and', 'harassed', 'by', 'this', 'company', \"'s\", 'practices', 'and', 'i', \"'m\", 'curious', 'if', 'other', 'people', 'have', 'eperienced', 'this', 'before', 'as', 'well', '.'], tags=['8']),\n",
       " TaggedDocument(words=['i', 'have', 'gotten', '7', 'calls', 'from', 'ar', 'resources', 'looking', 'for', 'a', 'person', 'who', 'is', 'not', 'authorized', 'to', 'use', 'our', 'phone', '.', 'i', 'have', 'called', 'them', 'three', 'times', 'and', 'they', 'told', 'me', 'they', 'would', 'take', 'our', 'number', 'off', 'their', 'list', '.', 'i', 'keep', 'getting', 'calls', 'so', 'started', 'to', 'document', '.', 'i', 'received', 'a', 'call', 'on', '//', 'at', '.', 'i', 'called', 'them', 'to', 'report', 'it', ',', 'spoke', 'with', ',', 'who', 'told', 'me', 'she', 'removed', 'it', 'from', 'the', 'list', 'at', 'on', '//', '.', 'at', 'on', '//', 'i', 'received', 'another', 'call', '.', 'i', 'called', 'back', 'again', ',', 'speaking', 'to', 'a', 'very', 'rude', ',', 'who', 'said', 'she', 'removed', 'my', 'name', 'from', 'the', 'list', '.', 'i', 'asked', 'to', 'be', 'connected', 'to', 'a', 'supervisor', 'and', 'she', 'connected', 'me', 'to', ',', 'who', 'did', 'not', 'pick', 'up', '.', 'i', 'left', 'a', 'message', 'asking', 'her', 'to', 'contact', 'me', '.', 'told', 'me', 'they', 'were', 'a', 'call', 'center', '.', 'please', 'stop', 'the', 'calls', '-', '7', 'times', 'i', \"'ve\", 'been', 'told', 'i', 'was', 'being', 'taken', 'off', 'the', 'list', '.', 'after', '35', 'years', ',', 'i', \"'m\", 'considering', 'changing', 'my', 'phone', 'number', '-', 'that', 'is', 'not', 'right', '.', 'this', 'is', 'harassment', '.', 'thank', 'you', '.'], tags=['9'])]"
      ]
     },
     "execution_count": 42,
     "metadata": {},
     "output_type": "execute_result"
    }
   ],
   "source": [
    "tagged_data"
   ]
  },
  {
   "cell_type": "markdown",
   "metadata": {},
   "source": [
    "Here we have a list of four sentences as training data. Now I have tagged the data and its ready for training. Lets start training our model."
   ]
  },
  {
   "cell_type": "code",
   "execution_count": 43,
   "metadata": {},
   "outputs": [
    {
     "name": "stderr",
     "output_type": "stream",
     "text": [
      "C:\\Users\\rayha\\Anaconda3\\lib\\site-packages\\gensim\\models\\doc2vec.py:366: UserWarning: The parameter `size` is deprecated, will be removed in 4.0.0, use `vector_size` instead.\n",
      "  warnings.warn(\"The parameter `size` is deprecated, will be removed in 4.0.0, use `vector_size` instead.\")\n"
     ]
    },
    {
     "name": "stdout",
     "output_type": "stream",
     "text": [
      "iteration 0\n"
     ]
    },
    {
     "name": "stderr",
     "output_type": "stream",
     "text": [
      "C:\\Users\\rayha\\Anaconda3\\lib\\site-packages\\ipykernel_launcher.py:17: DeprecationWarning: Call to deprecated `iter` (Attribute will be removed in 4.0.0, use self.epochs instead).\n"
     ]
    },
    {
     "name": "stdout",
     "output_type": "stream",
     "text": [
      "iteration 1\n",
      "iteration 2\n",
      "iteration 3\n",
      "iteration 4\n",
      "iteration 5\n",
      "iteration 6\n",
      "iteration 7\n",
      "iteration 8\n",
      "iteration 9\n",
      "iteration 10\n",
      "iteration 11\n",
      "iteration 12\n",
      "iteration 13\n",
      "iteration 14\n",
      "iteration 15\n",
      "iteration 16\n",
      "iteration 17\n",
      "iteration 18\n",
      "iteration 19\n",
      "iteration 20\n",
      "iteration 21\n",
      "iteration 22\n",
      "iteration 23\n",
      "iteration 24\n",
      "iteration 25\n",
      "iteration 26\n",
      "iteration 27\n",
      "iteration 28\n",
      "iteration 29\n",
      "iteration 30\n",
      "iteration 31\n",
      "iteration 32\n",
      "iteration 33\n",
      "iteration 34\n",
      "iteration 35\n",
      "iteration 36\n",
      "iteration 37\n",
      "iteration 38\n",
      "iteration 39\n",
      "iteration 40\n",
      "iteration 41\n",
      "iteration 42\n",
      "iteration 43\n",
      "iteration 44\n",
      "iteration 45\n",
      "iteration 46\n",
      "iteration 47\n",
      "iteration 48\n",
      "iteration 49\n",
      "iteration 50\n",
      "iteration 51\n",
      "iteration 52\n",
      "iteration 53\n",
      "iteration 54\n",
      "iteration 55\n",
      "iteration 56\n",
      "iteration 57\n",
      "iteration 58\n",
      "iteration 59\n",
      "iteration 60\n",
      "iteration 61\n",
      "iteration 62\n",
      "iteration 63\n",
      "iteration 64\n",
      "iteration 65\n",
      "iteration 66\n",
      "iteration 67\n",
      "iteration 68\n",
      "iteration 69\n",
      "iteration 70\n",
      "iteration 71\n",
      "iteration 72\n",
      "iteration 73\n",
      "iteration 74\n",
      "iteration 75\n",
      "iteration 76\n",
      "iteration 77\n",
      "iteration 78\n",
      "iteration 79\n",
      "iteration 80\n",
      "iteration 81\n",
      "iteration 82\n",
      "iteration 83\n",
      "iteration 84\n",
      "iteration 85\n",
      "iteration 86\n",
      "iteration 87\n",
      "iteration 88\n",
      "iteration 89\n",
      "iteration 90\n",
      "iteration 91\n",
      "iteration 92\n",
      "iteration 93\n",
      "iteration 94\n",
      "iteration 95\n",
      "iteration 96\n",
      "iteration 97\n",
      "iteration 98\n",
      "iteration 99\n",
      "Model Saved\n"
     ]
    }
   ],
   "source": [
    "max_epochs = 100\n",
    "vec_size = 20\n",
    "alpha = 0.025\n",
    "\n",
    "model = Doc2Vec(size=vec_size,\n",
    "                alpha=alpha, \n",
    "                min_alpha=0.00025,\n",
    "                min_count=1,\n",
    "                dm =1)\n",
    "  \n",
    "model.build_vocab(tagged_data)\n",
    "\n",
    "for epoch in range(max_epochs):\n",
    "    print('iteration {0}'.format(epoch))\n",
    "    model.train(tagged_data,\n",
    "                total_examples=model.corpus_count,\n",
    "                epochs=model.iter)\n",
    "    # decrease the learning rate\n",
    "    model.alpha -= 0.0002\n",
    "    # fix the learning rate, no decay\n",
    "    model.min_alpha = model.alpha\n",
    "\n",
    "model.save(\"d2v.model\")\n",
    "print(\"Model Saved\")"
   ]
  },
  {
   "cell_type": "markdown",
   "metadata": {},
   "source": [
    "**Note:** dm defines the training algorithm. If dm=1 means ‘distributed memory’ (PV-DM) and dm =0 means ‘distributed bag of words’ (PV-DBOW). Distributed Memory model preserves the word order in a document whereas Distributed Bag of words just uses the bag of words approach, which doesn’t preserve any word order."
   ]
  },
  {
   "cell_type": "markdown",
   "metadata": {},
   "source": [
    "So we have saved the model and it’s ready for implementation. Lets play with it."
   ]
  },
  {
   "cell_type": "code",
   "execution_count": 44,
   "metadata": {},
   "outputs": [
    {
     "name": "stdout",
     "output_type": "stream",
     "text": [
      "[('4', 0.6878265738487244), ('6', 0.6410451531410217), ('9', 0.578339695930481), ('5', 0.5374822616577148), ('3', 0.514997124671936), ('0', 0.49757710099220276), ('8', 0.46816176176071167), ('7', 0.3758920431137085), ('2', 0.31886008381843567)]\n"
     ]
    }
   ],
   "source": [
    "from gensim.models.doc2vec import Doc2Vec\n",
    "\n",
    "model= Doc2Vec.load(\"d2v.model\")\n",
    "#to find the vector of a document which is not in training data\n",
    "test_data = word_tokenize(\"I love chatbots\".lower())\n",
    "v1 = model.infer_vector(test_data)\n",
    "#print(\"V1_infer\", v1)\n",
    "\n",
    "# to find most similar doc using tags\n",
    "similar_doc = model.docvecs.most_similar('1')\n",
    "print(similar_doc)\n",
    "\n",
    "\n",
    "# to find vector of doc in training data using tags or in other words, printing the vector of document at index 1 in training data\n",
    "#print(model.docvecs['1'])"
   ]
  },
  {
   "cell_type": "code",
   "execution_count": null,
   "metadata": {
    "collapsed": true
   },
   "outputs": [],
   "source": []
  }
 ],
 "metadata": {
  "kernelspec": {
   "display_name": "Python 3",
   "language": "python",
   "name": "python3"
  },
  "language_info": {
   "codemirror_mode": {
    "name": "ipython",
    "version": 3
   },
   "file_extension": ".py",
   "mimetype": "text/x-python",
   "name": "python",
   "nbconvert_exporter": "python",
   "pygments_lexer": "ipython3",
   "version": "3.6.6"
  }
 },
 "nbformat": 4,
 "nbformat_minor": 2
}
